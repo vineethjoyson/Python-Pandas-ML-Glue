{
 "cells": [
  {
   "cell_type": "code",
   "execution_count": 1,
   "id": "3112ce3f",
   "metadata": {},
   "outputs": [],
   "source": [
    "#Use these questions as a checklist. Before attempting each one, remember your first two steps should be:\n",
    "\n",
    "#Import pandas: import pandas as pd\n",
    "\n",
    "#Load the data: df = pd.read_csv('player_data.csv')\n",
    "\n",
    "#1. Data Inspection and Preparation (Methods: read_csv, .info(), .describe(), .astype())"
   ]
  },
  {
   "cell_type": "code",
   "execution_count": null,
   "id": "cc00688b",
   "metadata": {},
   "outputs": [],
   "source": []
  },
  {
   "cell_type": "code",
   "execution_count": 2,
   "id": "7df0602c",
   "metadata": {},
   "outputs": [],
   "source": [
    "#,Scenario / Task,Key Method(s)\n",
    "#Q1,Initial Quality Check: Load the data. Check the first few rows and get a summary to verify that all 300 records loaded correctly and to see the data types.,\"pd.read_csv(), df.head(), df.info(), df.shape\"\n",
    "#Q2,\"Age Statistics: Get the statistical summary for only the Age column (mean, max, min, quartiles).\",df.describe()\n",
    "#Q3,\"Type Correction: The Age column is a float (e.g., 23.0). Convert this column to an integer data type (a common cleaning step).\",df.astype(int)"
   ]
  },
  {
   "cell_type": "code",
   "execution_count": 3,
   "id": "cc12ad0a",
   "metadata": {},
   "outputs": [],
   "source": [
    "#Filtering and Subsetting\n",
    "#,Scenario / Task,Key Method(s)\n",
    "#Q4,Young Talent: Create a new DataFrame containing only players who are 22 years old or younger and display the first 5 records from this subset.,\"df[df['Age'] <= 22], df.head()\"\n",
    "#Q5,Position Focus: Select and display the names and ages of all players whose position is Center (C) using the .query() method.,df.query()\n",
    "#Q6,Roster Lookup: Find the Position and Team of the player with the name 'Evan Sanchez' (using the .loc accessor).,\"df.loc[row, col]\"\n",
    "#Q7,\"Arbitrary Sample: Display the 15th, 30th, and 45th players in the original list using their row indices.\",\"df.iloc[[15, 30, 45]]\""
   ]
  },
  {
   "cell_type": "code",
   "execution_count": null,
   "id": "3b6590fd",
   "metadata": {},
   "outputs": [],
   "source": [
    "#Aggregation and Summarization\n",
    "##,Scenario / Task,Key Method(s)\n",
    "#Q8,Roster Depth: Determine how many players are on each team (Team Count) and display the result.,df['Team'].value_counts()\n",
    "#Q9,\"Age by Position: Calculate the average age of players for each unique position (PG, SG, SF, PF, C).\",\"df.groupby(), .mean()\"\n",
    "#Q10,Team Comparison: Display the teams in order from the one with the highest average player age to the one with the lowest.,\"df.groupby(), .mean(), .sort_values()\""
   ]
  },
  {
   "cell_type": "code",
   "execution_count": 5,
   "id": "f0f2350b",
   "metadata": {},
   "outputs": [],
   "source": [
    "# Data cleaning and Manipulaton\n",
    "# #,Scenario / Task,Key Method(s)\n",
    "#Q11,\"Team Standardization: Due to a league rebrand, change all instances of 'Boston Celtics' to 'BOS' and 'Los Angeles Lakers' to 'LAL' in the Team column.\",df.replace()\n",
    "#Q12,\"Indexing: Set the Player column as the new DataFrame index, then display the first 5 rows to show the new index structure.\",df.set_index()\n",
    "#Q13,\"Reset Index: Restore the DataFrame's index back to the default numeric range, converting the Player column back into a regular column.\",df.reset_index()"
   ]
  },
  {
   "cell_type": "code",
   "execution_count": null,
   "id": "a7a3d2ef",
   "metadata": {},
   "outputs": [],
   "source": [
    "# Final Output\n",
    "##,Scenario / Task,Key Method(s)\n",
    "#Q14,\"Data Archiving: Save your current, cleaned DataFrame (after all the above steps) to a new CSV file named cleaned_player_data.csv.\",df.to_csv()"
   ]
  }
 ],
 "metadata": {
  "kernelspec": {
   "display_name": "Python 3",
   "language": "python",
   "name": "python3"
  },
  "language_info": {
   "codemirror_mode": {
    "name": "ipython",
    "version": 3
   },
   "file_extension": ".py",
   "mimetype": "text/x-python",
   "name": "python",
   "nbconvert_exporter": "python",
   "pygments_lexer": "ipython3",
   "version": "3.13.2"
  }
 },
 "nbformat": 4,
 "nbformat_minor": 5
}
